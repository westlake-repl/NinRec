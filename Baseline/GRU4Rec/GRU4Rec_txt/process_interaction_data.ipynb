{
 "cells": [
  {
   "cell_type": "code",
   "execution_count": null,
   "metadata": {},
   "outputs": [],
   "source": [
    "# This file serves the purpose of transforming raw interaction data into the data forms required to execute corresponding baselines.\n",
    "\n",
    "\n",
    "import pandas as pd\n",
    "import numpy as np\n",
    "import os\n",
    "\n",
    "file_l = ['Bili_2M_behaviour.tsv',]\n",
    "data_l = ['bisc',]\n",
    "MAX_SEQ_LEN = 20\n",
    "for idx in range(len(file_l)):\n",
    "    dat_seq = pd.read_csv(file_l[idx], sep='\\t',header=None)\n",
    "    dat_arr = np.array(dat_seq)\n",
    "    inter = []\n",
    "    for seq in dat_arr:\n",
    "        uid = seq[0]\n",
    "        iseq = seq[1].split()\n",
    "        for i, item in enumerate(iseq):\n",
    "            inter.append([item, uid, i])\n",
    "\n",
    "    inter_df = np.array(inter)\n",
    "    dat = pd.DataFrame(inter_df)\n",
    "    dat.columns = ['item_id', 'user_id', 'timestamp']\n",
    "    dat['timestamp'] = dat['timestamp'].astype(int)\n",
    "    dat.sort_values(by='timestamp', inplace=True, ascending=True)\n",
    "    user_list = dat['user_id'].values\n",
    "    item_list = dat['item_id'].values\n",
    "\n",
    "    index = {}\n",
    "    for i, key in enumerate(user_list):\n",
    "        if key not in index:\n",
    "            index[key] = [i]\n",
    "        else:\n",
    "            index[key].append(i)\n",
    "\n",
    "            indices = []\n",
    "        \n",
    "    for index in index.values():\n",
    "        indices.extend(list(index)[-(MAX_SEQ_LEN+3):])\n",
    "\n",
    "    final_dat = dict()\n",
    "    for k in dat:\n",
    "        final_dat[k] = dat[k].values[indices]\n",
    "    \n",
    "    final_dat = pd.DataFrame(final_dat)\n",
    "    print(final_dat.head(3))\n",
    "    print(final_dat['user_id'].nunique(),final_dat['item_id'].nunique(),final_dat.shape[0] )\n",
    "    os.makedirs(f'./{data_l[idx]}/', exist_ok=True)\n",
    "    final_dat.to_csv(f'./{data_l[idx]}/{data_l[idx]}.inter', index=False)"
   ]
  }
 ],
 "metadata": {
  "language_info": {
   "name": "python"
  },
  "orig_nbformat": 4
 },
 "nbformat": 4,
 "nbformat_minor": 2
}
